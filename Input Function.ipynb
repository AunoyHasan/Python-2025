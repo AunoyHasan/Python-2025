{
 "cells": [
  {
   "cell_type": "code",
   "execution_count": 3,
   "id": "5538195e",
   "metadata": {},
   "outputs": [
    {
     "name": "stdout",
     "output_type": "stream",
     "text": [
      "Tell me something, I will repeat it back to you: Aunoy\n",
      "Aunoy\n"
     ]
    }
   ],
   "source": [
    "# input() function pauses your program and waits for the user to enter some text.\n",
    "\n",
    "message = input(\"Tell me something, I will repeat it back to you: \")\n",
    "print(message)"
   ]
  },
  {
   "cell_type": "code",
   "execution_count": 4,
   "id": "1ad89e0d",
   "metadata": {},
   "outputs": [
    {
     "name": "stdout",
     "output_type": "stream",
     "text": [
      "Hello, What do you want?\n",
      "Please tellApple\n",
      "Apple\n"
     ]
    }
   ],
   "source": [
    "# Adding new line\n",
    "prompt = \"Hello, What do you want?\"\n",
    "prompt += \"\\nPlease tell\"\n",
    "\n",
    "name = input(prompt)\n",
    "print(name)"
   ]
  },
  {
   "cell_type": "code",
   "execution_count": 5,
   "id": "8d4b010d",
   "metadata": {},
   "outputs": [
    {
     "ename": "SyntaxError",
     "evalue": "invalid syntax (246084176.py, line 1)",
     "output_type": "error",
     "traceback": [
      "\u001b[1;36m  File \u001b[1;32m\"C:\\Users\\User\\AppData\\Local\\Temp\\ipykernel_6760\\246084176.py\"\u001b[1;36m, line \u001b[1;32m1\u001b[0m\n\u001b[1;33m    print('I need', f{name})\u001b[0m\n\u001b[1;37m                     ^\u001b[0m\n\u001b[1;31mSyntaxError\u001b[0m\u001b[1;31m:\u001b[0m invalid syntax\n"
     ]
    }
   ],
   "source": [
    "print(f\"I need {name}\")"
   ]
  },
  {
   "cell_type": "code",
   "execution_count": null,
   "id": "94925bd9",
   "metadata": {},
   "outputs": [],
   "source": []
  }
 ],
 "metadata": {
  "kernelspec": {
   "display_name": "Python 3 (ipykernel)",
   "language": "python",
   "name": "python3"
  },
  "language_info": {
   "codemirror_mode": {
    "name": "ipython",
    "version": 3
   },
   "file_extension": ".py",
   "mimetype": "text/x-python",
   "name": "python",
   "nbconvert_exporter": "python",
   "pygments_lexer": "ipython3",
   "version": "3.9.13"
  }
 },
 "nbformat": 4,
 "nbformat_minor": 5
}
