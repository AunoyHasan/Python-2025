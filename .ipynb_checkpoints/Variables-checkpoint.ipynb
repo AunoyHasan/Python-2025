{
 "cells": [
  {
   "cell_type": "code",
   "execution_count": 1,
   "id": "490f35ae",
   "metadata": {},
   "outputs": [
    {
     "name": "stdout",
     "output_type": "stream",
     "text": [
      "Hello World\n"
     ]
    }
   ],
   "source": [
    "#Variable\n",
    "\n",
    "var = 'Hello World'\n",
    "print (var)"
   ]
  },
  {
   "cell_type": "code",
   "execution_count": 2,
   "id": "895b6033",
   "metadata": {},
   "outputs": [
    {
     "name": "stdout",
     "output_type": "stream",
     "text": [
      "My name is Aunoy\n"
     ]
    }
   ],
   "source": [
    "name = 'Aunoy'\n",
    "print('My name is '+name)"
   ]
  },
  {
   "cell_type": "markdown",
   "id": "0a8a866a",
   "metadata": {},
   "source": [
    "# Global Variable"
   ]
  },
  {
   "cell_type": "code",
   "execution_count": 8,
   "id": "58f1ae11",
   "metadata": {},
   "outputs": [
    {
     "name": "stdout",
     "output_type": "stream",
     "text": [
      "My number is  50\n",
      "Global Variable is  100\n"
     ]
    }
   ],
   "source": [
    "x = 100\n",
    "\n",
    "def funcX():\n",
    "    x=50\n",
    "    print('My number is ' ,x)\n",
    "    \n",
    "funcX()\n",
    "print('Global Variable is ' ,x)"
   ]
  },
  {
   "cell_type": "code",
   "execution_count": null,
   "id": "d8a89d72",
   "metadata": {},
   "outputs": [],
   "source": []
  },
  {
   "cell_type": "code",
   "execution_count": null,
   "id": "aa360dea",
   "metadata": {},
   "outputs": [],
   "source": []
  }
 ],
 "metadata": {
  "kernelspec": {
   "display_name": "Python 3 (ipykernel)",
   "language": "python",
   "name": "python3"
  },
  "language_info": {
   "codemirror_mode": {
    "name": "ipython",
    "version": 3
   },
   "file_extension": ".py",
   "mimetype": "text/x-python",
   "name": "python",
   "nbconvert_exporter": "python",
   "pygments_lexer": "ipython3",
   "version": "3.9.13"
  }
 },
 "nbformat": 4,
 "nbformat_minor": 5
}
