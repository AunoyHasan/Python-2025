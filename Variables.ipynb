{
 "cells": [
  {
   "cell_type": "code",
   "execution_count": null,
   "id": "a5d5b102",
   "metadata": {},
   "outputs": [],
   "source": [
    "#Variable\n",
    "\n",
    "var = 'Hello World'\n",
    "print (var)"
   ]
  },
  {
   "cell_type": "code",
   "execution_count": 2,
   "id": "080f19aa",
   "metadata": {},
   "outputs": [
    {
     "name": "stdout",
     "output_type": "stream",
     "text": [
      "My name is Aunoy\n"
     ]
    }
   ],
   "source": [
    "name = 'Aunoy'\n",
    "print('My name is '+name)"
   ]
  },
  {
   "cell_type": "markdown",
   "id": "6821c93c",
   "metadata": {},
   "source": [
    "# Global Variable"
   ]
  },
  {
   "cell_type": "code",
   "execution_count": 9,
   "id": "9b683dcc",
   "metadata": {},
   "outputs": [
    {
     "name": "stdout",
     "output_type": "stream",
     "text": [
      "Local Variable is  50\n",
      "Global Variable is  100\n"
     ]
    }
   ],
   "source": [
    "x = 100 # Global varaible \n",
    "\n",
    "def funcX():\n",
    "    x = 50 # Local Variable \n",
    "    print('Local Variable is ' ,x)\n",
    "    \n",
    "funcX()\n",
    "print('Global Variable is ' ,x)"
   ]
  },
  {
   "cell_type": "markdown",
   "id": "bfdaea3d",
   "metadata": {},
   "source": [
    "# Input/Output"
   ]
  },
  {
   "cell_type": "code",
   "execution_count": null,
   "id": "a3663567",
   "metadata": {},
   "outputs": [],
   "source": [
    "x = input()\n",
    "y = input()"
   ]
  },
  {
   "cell_type": "markdown",
   "id": "a2d8740c",
   "metadata": {},
   "source": [
    "89\n",
    "65"
   ]
  },
  {
   "cell_type": "code",
   "execution_count": null,
   "id": "8acd2f2a",
   "metadata": {},
   "outputs": [],
   "source": [
    "name = input('Enter your name: ')"
   ]
  },
  {
   "cell_type": "code",
   "execution_count": null,
   "id": "cf2739dd",
   "metadata": {},
   "outputs": [],
   "source": [
    "Aunoy"
   ]
  },
  {
   "cell_type": "code",
   "execution_count": null,
   "id": "dc1c5ac4",
   "metadata": {},
   "outputs": [],
   "source": [
    "number = int(input('Enter an integer number: '))"
   ]
  },
  {
   "cell_type": "code",
   "execution_count": null,
   "id": "ae8faef7",
   "metadata": {},
   "outputs": [],
   "source": []
  },
  {
   "cell_type": "code",
   "execution_count": null,
   "id": "99d8ac15",
   "metadata": {},
   "outputs": [],
   "source": []
  },
  {
   "cell_type": "code",
   "execution_count": null,
   "id": "a6cf6d07",
   "metadata": {},
   "outputs": [],
   "source": []
  },
  {
   "cell_type": "code",
   "execution_count": null,
   "id": "c5cbafad",
   "metadata": {},
   "outputs": [],
   "source": []
  },
  {
   "cell_type": "markdown",
   "id": "96b4a739",
   "metadata": {},
   "source": [
    "# String Function "
   ]
  },
  {
   "cell_type": "code",
   "execution_count": null,
   "id": "25cff2a4",
   "metadata": {},
   "outputs": [],
   "source": [
    "# len()\n",
    "# lower()\n",
    "# upper()\n",
    "# strip()\n",
    "# split(separator)\n",
    "# join(list)\n",
    "# find(substring)\n",
    "# startswith(prefix) / endswith(suffix)\n",
    "# isdigit() / isalpha() / isalnum()\n",
    "\n",
    "string = 'My name is Aunoy'"
   ]
  },
  {
   "cell_type": "code",
   "execution_count": null,
   "id": "304e6f56",
   "metadata": {},
   "outputs": [],
   "source": [
    "len(string)"
   ]
  },
  {
   "cell_type": "code",
   "execution_count": null,
   "id": "f4ae1acf",
   "metadata": {},
   "outputs": [],
   "source": []
  }
 ],
 "metadata": {
  "kernelspec": {
   "display_name": "Python 3 (ipykernel)",
   "language": "python",
   "name": "python3"
  },
  "language_info": {
   "codemirror_mode": {
    "name": "ipython",
    "version": 3
   },
   "file_extension": ".py",
   "mimetype": "text/x-python",
   "name": "python",
   "nbconvert_exporter": "python",
   "pygments_lexer": "ipython3",
   "version": "3.9.13"
  }
 },
 "nbformat": 4,
 "nbformat_minor": 5
}
