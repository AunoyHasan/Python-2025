{
 "cells": [
  {
   "cell_type": "markdown",
   "id": "dae5367e",
   "metadata": {},
   "source": [
    "## IF Statement "
   ]
  },
  {
   "cell_type": "code",
   "execution_count": 1,
   "id": "1fa49936",
   "metadata": {},
   "outputs": [
    {
     "name": "stdout",
     "output_type": "stream",
     "text": [
      "Orange\n",
      "APPLE\n",
      "Guava\n",
      "Mango\n",
      "Pineapple\n"
     ]
    }
   ],
   "source": [
    "fruits = ['orange', 'apple', 'guava', 'mango', 'pineapple']\n",
    "fruits\n",
    "\n",
    "for fruit in fruits:\n",
    "    if fruit == 'apple':\n",
    "        print(fruit.upper())\n",
    "    else:\n",
    "        print(fruit.title())"
   ]
  },
  {
   "cell_type": "markdown",
   "id": "eda662ea",
   "metadata": {},
   "source": [
    "## Checking Whether a Value Is in a List"
   ]
  },
  {
   "cell_type": "code",
   "execution_count": 3,
   "id": "dd84e3b8",
   "metadata": {},
   "outputs": [
    {
     "data": {
      "text/plain": [
       "True"
      ]
     },
     "execution_count": 3,
     "metadata": {},
     "output_type": "execute_result"
    }
   ],
   "source": [
    "'mango' in fruits"
   ]
  },
  {
   "cell_type": "code",
   "execution_count": 4,
   "id": "f08dc2a3",
   "metadata": {},
   "outputs": [
    {
     "name": "stdout",
     "output_type": "stream",
     "text": [
      "Yes, mango in the list\n"
     ]
    }
   ],
   "source": [
    "if 'mango' in fruits:\n",
    "    print('Yes, mango in the list')\n",
    "else:\n",
    "    print('No, mango is not in the list')"
   ]
  },
  {
   "cell_type": "code",
   "execution_count": 5,
   "id": "6e8a5594",
   "metadata": {},
   "outputs": [
    {
     "data": {
      "text/plain": [
       "False"
      ]
     },
     "execution_count": 5,
     "metadata": {},
     "output_type": "execute_result"
    }
   ],
   "source": [
    "'Watermelon' in fruits"
   ]
  },
  {
   "cell_type": "code",
   "execution_count": 6,
   "id": "c259c606",
   "metadata": {},
   "outputs": [
    {
     "name": "stdout",
     "output_type": "stream",
     "text": [
      "No, you are not allowed.\n"
     ]
    }
   ],
   "source": [
    "'''\n",
    "An if-else block is similar to a simple if statement, but the else\n",
    " statement allows you to define an action or set of actions that are \n",
    "executed when the conditional test fails.\n",
    "'''\n",
    "\n",
    "age = 17\n",
    "if age > 18:\n",
    "    print('Yes, you are allowed.')\n",
    "else:\n",
    "    print('No, you are not allowed.')"
   ]
  },
  {
   "cell_type": "code",
   "execution_count": 7,
   "id": "b2d32853",
   "metadata": {},
   "outputs": [
    {
     "name": "stdout",
     "output_type": "stream",
     "text": [
      "Your admission cost is 10$\n"
     ]
    }
   ],
   "source": [
    "age = 12\n",
    "\n",
    "if age < 12:\n",
    "    print('Your admission cost is 0$')\n",
    "elif age >= 12 and age <= 18:\n",
    "    print('Your admission cost is 10$')\n",
    "else:\n",
    "    print('Your admission cost is 15$')"
   ]
  },
  {
   "cell_type": "markdown",
   "id": "fcc2ce0b",
   "metadata": {},
   "source": [
    "## Using Multiple Lists"
   ]
  },
  {
   "cell_type": "code",
   "execution_count": 12,
   "id": "6e60d8a7",
   "metadata": {},
   "outputs": [
    {
     "name": "stdout",
     "output_type": "stream",
     "text": [
      "Sorry Pizza Coca Cola are not available\n"
     ]
    }
   ],
   "source": [
    "avaiable_foods = ['Pizza', 'Pasta', 'French Fries', 'Chicken Fries', 'Fired Rice', 'Coca Cola', 'Pepsi', 'Noodles']\n",
    "requested_foods = ['Pizza', 'Coca Cola', 'Biriani', 'Momos']\n",
    "not_available_foods = 'Sorry '\n",
    "for avaiable_food in avaiable_foods:\n",
    "    for requested_food in requested_foods:\n",
    "        if avaiable_food == requested_food:\n",
    "            #print(f\"Sorry, {requested_food} are not avaiable\")\n",
    "            not_available_foods += requested_food + ' ' \n",
    "not_available_foods += 'are not available'\n",
    "print(not_available_foods)"
   ]
  },
  {
   "cell_type": "markdown",
   "id": "36e7041f",
   "metadata": {},
   "source": [
    "## Break and Continue statement"
   ]
  },
  {
   "cell_type": "code",
   "execution_count": 13,
   "id": "df9c7239",
   "metadata": {},
   "outputs": [
    {
     "data": {
      "text/plain": [
       "[1, 2, 3, 4, 5, 6, 7, 8, 9, 10]"
      ]
     },
     "execution_count": 13,
     "metadata": {},
     "output_type": "execute_result"
    }
   ],
   "source": [
    "numbers = [1, 2, 3, 4, 5, 6, 7, 8, 9, 10]\n",
    "numbers"
   ]
  },
  {
   "cell_type": "code",
   "execution_count": 18,
   "id": "b6a8be9e",
   "metadata": {},
   "outputs": [
    {
     "name": "stdout",
     "output_type": "stream",
     "text": [
      "1  2  3  4  "
     ]
    }
   ],
   "source": [
    "for number in numbers:\n",
    "    if number == 5:\n",
    "        break\n",
    "    print(number, end = '  ')"
   ]
  },
  {
   "cell_type": "code",
   "execution_count": 17,
   "id": "f57b7562",
   "metadata": {},
   "outputs": [
    {
     "name": "stdout",
     "output_type": "stream",
     "text": [
      "1 2 3 4 6 7 8 9 10 "
     ]
    }
   ],
   "source": [
    "for number in numbers:\n",
    "    if number == 5:\n",
    "        continue\n",
    "    print(number, end = ' ')"
   ]
  },
  {
   "cell_type": "markdown",
   "id": "e3d4f0c0",
   "metadata": {},
   "source": [
    "## Slicing a list"
   ]
  },
  {
   "cell_type": "code",
   "execution_count": 20,
   "id": "fd90341a",
   "metadata": {},
   "outputs": [
    {
     "data": {
      "text/plain": [
       "['A+', 'A', 'A-', 'B+', 'B', 'B-', 'C+', 'C', 'C-', 'D', 'F']"
      ]
     },
     "execution_count": 20,
     "metadata": {},
     "output_type": "execute_result"
    }
   ],
   "source": [
    "grades = ['A+', 'A', 'A-', 'B+', 'B', 'B-', 'C+', 'C', 'C-', 'D', 'F']\n",
    "grades"
   ]
  },
  {
   "cell_type": "code",
   "execution_count": 21,
   "id": "b1e3f765",
   "metadata": {},
   "outputs": [
    {
     "data": {
      "text/plain": [
       "['A+', 'A', 'A-', 'B+', 'B']"
      ]
     },
     "execution_count": 21,
     "metadata": {},
     "output_type": "execute_result"
    }
   ],
   "source": [
    "grades[0:5]"
   ]
  },
  {
   "cell_type": "code",
   "execution_count": 22,
   "id": "e2744392",
   "metadata": {},
   "outputs": [
    {
     "data": {
      "text/plain": [
       "['A', 'A-', 'B+', 'B']"
      ]
     },
     "execution_count": 22,
     "metadata": {},
     "output_type": "execute_result"
    }
   ],
   "source": [
    "grades[1:5]"
   ]
  },
  {
   "cell_type": "code",
   "execution_count": 25,
   "id": "878f664e",
   "metadata": {},
   "outputs": [
    {
     "data": {
      "text/plain": [
       "['A+', 'A', 'A-', 'B+', 'B']"
      ]
     },
     "execution_count": 25,
     "metadata": {},
     "output_type": "execute_result"
    }
   ],
   "source": [
    "grades[:5]"
   ]
  },
  {
   "cell_type": "code",
   "execution_count": 26,
   "id": "1d30a054",
   "metadata": {},
   "outputs": [
    {
     "data": {
      "text/plain": [
       "['B-', 'C+', 'C', 'C-', 'D', 'F']"
      ]
     },
     "execution_count": 26,
     "metadata": {},
     "output_type": "execute_result"
    }
   ],
   "source": [
    "grades[5:]"
   ]
  },
  {
   "cell_type": "code",
   "execution_count": 27,
   "id": "3e3765ee",
   "metadata": {},
   "outputs": [
    {
     "data": {
      "text/plain": [
       "['C-', 'D', 'F']"
      ]
     },
     "execution_count": 27,
     "metadata": {},
     "output_type": "execute_result"
    }
   ],
   "source": [
    "grades[-3:]"
   ]
  },
  {
   "cell_type": "code",
   "execution_count": 28,
   "id": "98be8393",
   "metadata": {},
   "outputs": [
    {
     "name": "stdout",
     "output_type": "stream",
     "text": [
      "First 3 grades are given below\n",
      "A+\n",
      "A\n",
      "A-\n"
     ]
    }
   ],
   "source": [
    "# First 3 gradees\n",
    "print('First 3 grades are given below')\n",
    "for grade in grades[:3]:\n",
    "    print(grade)"
   ]
  },
  {
   "cell_type": "code",
   "execution_count": 29,
   "id": "dfbc4744",
   "metadata": {},
   "outputs": [
    {
     "name": "stdout",
     "output_type": "stream",
     "text": [
      "['pasta', 'potato', 'rice', 'ginger']\n",
      "['pasta', 'potato', 'rice', 'ginger']\n"
     ]
    }
   ],
   "source": [
    "# Copying a list\n",
    "foods = ['pasta', 'potato', 'rice', 'ginger']\n",
    "\n",
    "my_foods = foods[:]\n",
    "\n",
    "print(foods)\n",
    "print(my_foods)"
   ]
  },
  {
   "cell_type": "code",
   "execution_count": null,
   "id": "e7a93eb7",
   "metadata": {},
   "outputs": [],
   "source": []
  }
 ],
 "metadata": {
  "kernelspec": {
   "display_name": "Python 3 (ipykernel)",
   "language": "python",
   "name": "python3"
  },
  "language_info": {
   "codemirror_mode": {
    "name": "ipython",
    "version": 3
   },
   "file_extension": ".py",
   "mimetype": "text/x-python",
   "name": "python",
   "nbconvert_exporter": "python",
   "pygments_lexer": "ipython3",
   "version": "3.9.13"
  }
 },
 "nbformat": 4,
 "nbformat_minor": 5
}
