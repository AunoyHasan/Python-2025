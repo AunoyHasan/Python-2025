{
 "cells": [
  {
   "cell_type": "code",
   "execution_count": 2,
   "id": "bb6f7526",
   "metadata": {},
   "outputs": [
    {
     "name": "stdout",
     "output_type": "stream",
     "text": [
      "You can not devide by zero\n"
     ]
    }
   ],
   "source": [
    "try:\n",
    "    print(5/0)\n",
    "except ZeroDivisionError:\n",
    "    print('You can not devide by zero')"
   ]
  },
  {
   "cell_type": "code",
   "execution_count": 3,
   "id": "cafb3cd4",
   "metadata": {},
   "outputs": [
    {
     "name": "stdout",
     "output_type": "stream",
     "text": [
      "Give me two numbers, I will divide them\n",
      "Enter q, if you want to close\n",
      "Enter first number: 4\n",
      "Enter second number: 56\n",
      "0.07142857142857142\n",
      "Enter first number: 56\n",
      "Enter second number: 0\n"
     ]
    },
    {
     "ename": "ZeroDivisionError",
     "evalue": "division by zero",
     "output_type": "error",
     "traceback": [
      "\u001b[1;31m---------------------------------------------------------------------------\u001b[0m",
      "\u001b[1;31mZeroDivisionError\u001b[0m                         Traceback (most recent call last)",
      "\u001b[1;32m~\\AppData\\Local\\Temp\\ipykernel_14140\\3786969779.py\u001b[0m in \u001b[0;36m<module>\u001b[1;34m\u001b[0m\n\u001b[0;32m      9\u001b[0m     \u001b[1;32mif\u001b[0m \u001b[0msecond_number\u001b[0m \u001b[1;33m==\u001b[0m \u001b[1;34m'q'\u001b[0m\u001b[1;33m:\u001b[0m\u001b[1;33m\u001b[0m\u001b[1;33m\u001b[0m\u001b[0m\n\u001b[0;32m     10\u001b[0m         \u001b[1;32mbreak\u001b[0m\u001b[1;33m\u001b[0m\u001b[1;33m\u001b[0m\u001b[0m\n\u001b[1;32m---> 11\u001b[1;33m     \u001b[0manswer\u001b[0m \u001b[1;33m=\u001b[0m \u001b[0mint\u001b[0m\u001b[1;33m(\u001b[0m\u001b[0mfirst_number\u001b[0m\u001b[1;33m)\u001b[0m \u001b[1;33m/\u001b[0m \u001b[0mint\u001b[0m\u001b[1;33m(\u001b[0m\u001b[0msecond_number\u001b[0m\u001b[1;33m)\u001b[0m\u001b[1;33m\u001b[0m\u001b[1;33m\u001b[0m\u001b[0m\n\u001b[0m\u001b[0;32m     12\u001b[0m     \u001b[0mprint\u001b[0m\u001b[1;33m(\u001b[0m\u001b[0manswer\u001b[0m\u001b[1;33m)\u001b[0m\u001b[1;33m\u001b[0m\u001b[1;33m\u001b[0m\u001b[0m\n",
      "\u001b[1;31mZeroDivisionError\u001b[0m: division by zero"
     ]
    }
   ],
   "source": [
    "print('Give me two numbers, I will divide them')\n",
    "print('Enter q, if you want to close')\n",
    "\n",
    "while True:\n",
    "    first_number = input('Enter first number: ')\n",
    "    if first_number == 'q':\n",
    "        break\n",
    "    second_number = input('Enter second number: ')\n",
    "    if second_number == 'q':\n",
    "        break\n",
    "    answer = int(first_number) / int(second_number)\n",
    "    print(answer)"
   ]
  },
  {
   "cell_type": "code",
   "execution_count": 4,
   "id": "5d0d2c60",
   "metadata": {},
   "outputs": [
    {
     "name": "stdout",
     "output_type": "stream",
     "text": [
      "Give me two numbers, I will divide them\n",
      "Enter q, if you want to close\n",
      "Enter first number: 56\n",
      "Enter second number: 90\n",
      "0.6222222222222222\n",
      "Enter first number: 7\n",
      "Enter second number: 0\n",
      "You can not devide by zero\n",
      "0.6222222222222222\n",
      "Enter first number: 65\n",
      "Enter second number: 76\n",
      "0.8552631578947368\n",
      "Enter first number: q\n"
     ]
    }
   ],
   "source": [
    "print('Give me two numbers, I will divide them')\n",
    "print('Enter q, if you want to close')\n",
    "\n",
    "while True:\n",
    "    first_number = input('Enter first number: ')\n",
    "    if first_number == 'q':\n",
    "        break\n",
    "    second_number = input('Enter second number: ')\n",
    "    if second_number == 'q':\n",
    "        break\n",
    "    try:\n",
    "        answer = int(first_number) / int(second_number)\n",
    "    except ZeroDivisionError:\n",
    "        print('You can not devide by zero')\n",
    "    print(answer)"
   ]
  },
  {
   "cell_type": "markdown",
   "id": "1d57364b",
   "metadata": {},
   "source": [
    "## File Not Found Error"
   ]
  },
  {
   "cell_type": "code",
   "execution_count": 5,
   "id": "551ae5d7",
   "metadata": {},
   "outputs": [
    {
     "ename": "FileNotFoundError",
     "evalue": "[Errno 2] No such file or directory: 'alice.txt'",
     "output_type": "error",
     "traceback": [
      "\u001b[1;31m---------------------------------------------------------------------------\u001b[0m",
      "\u001b[1;31mFileNotFoundError\u001b[0m                         Traceback (most recent call last)",
      "\u001b[1;32m~\\AppData\\Local\\Temp\\ipykernel_14140\\2438573106.py\u001b[0m in \u001b[0;36m<module>\u001b[1;34m\u001b[0m\n\u001b[0;32m      1\u001b[0m \u001b[0mfile_name\u001b[0m \u001b[1;33m=\u001b[0m \u001b[1;34m'alice.txt'\u001b[0m\u001b[1;33m\u001b[0m\u001b[1;33m\u001b[0m\u001b[0m\n\u001b[1;32m----> 2\u001b[1;33m \u001b[1;32mwith\u001b[0m \u001b[0mopen\u001b[0m\u001b[1;33m(\u001b[0m\u001b[0mfile_name\u001b[0m\u001b[1;33m,\u001b[0m \u001b[0mencoding\u001b[0m\u001b[1;33m=\u001b[0m\u001b[1;34m'utf-8'\u001b[0m\u001b[1;33m)\u001b[0m \u001b[1;32mas\u001b[0m \u001b[0mf\u001b[0m\u001b[1;33m:\u001b[0m\u001b[1;33m\u001b[0m\u001b[1;33m\u001b[0m\u001b[0m\n\u001b[0m\u001b[0;32m      3\u001b[0m     \u001b[0mcontents\u001b[0m \u001b[1;33m=\u001b[0m \u001b[0mf\u001b[0m\u001b[1;33m.\u001b[0m\u001b[0mread\u001b[0m\u001b[1;33m(\u001b[0m\u001b[1;33m)\u001b[0m\u001b[1;33m\u001b[0m\u001b[1;33m\u001b[0m\u001b[0m\n",
      "\u001b[1;31mFileNotFoundError\u001b[0m: [Errno 2] No such file or directory: 'alice.txt'"
     ]
    }
   ],
   "source": [
    "file_name = 'alice.txt'\n",
    "with open(file_name, encoding='utf-8') as f:\n",
    "    contents = f.read()"
   ]
  },
  {
   "cell_type": "code",
   "execution_count": 6,
   "id": "b492c373",
   "metadata": {},
   "outputs": [
    {
     "name": "stdout",
     "output_type": "stream",
     "text": [
      "Sorry, the alice.txt does not exist\n"
     ]
    }
   ],
   "source": [
    "file_name = 'alice.txt'\n",
    "try:\n",
    "    with open(file_name, encoding='utf-8') as f:\n",
    "        contents = f.read()\n",
    "except FileNotFoundError:\n",
    "    print(f'Sorry, the {file_name} does not exist')"
   ]
  },
  {
   "cell_type": "markdown",
   "id": "f8c79f99",
   "metadata": {},
   "source": [
    "## Analyzinng text"
   ]
  },
  {
   "cell_type": "code",
   "execution_count": 7,
   "id": "088c618b",
   "metadata": {},
   "outputs": [
    {
     "name": "stdout",
     "output_type": "stream",
     "text": [
      "The words.txt has 12 words\n"
     ]
    }
   ],
   "source": [
    "file_name = 'words.txt'\n",
    "\n",
    "try:\n",
    "    with open(file_name, encoding = 'utf-8') as f:\n",
    "        contents = f.read()\n",
    "except FileNotFoundError:\n",
    "    print(f'Sorry, the {file_name} does not exist')\n",
    "else:\n",
    "    words = contents.split()\n",
    "    num_of_words = len(words)\n",
    "    print(f\"The {file_name} has {num_of_words} words\")"
   ]
  },
  {
   "cell_type": "code",
   "execution_count": 9,
   "id": "566b3e3e",
   "metadata": {},
   "outputs": [
    {
     "ename": "TypeError",
     "evalue": "count_words() takes 0 positional arguments but 1 was given",
     "output_type": "error",
     "traceback": [
      "\u001b[1;31m---------------------------------------------------------------------------\u001b[0m",
      "\u001b[1;31mTypeError\u001b[0m                                 Traceback (most recent call last)",
      "\u001b[1;32m~\\AppData\\Local\\Temp\\ipykernel_14140\\3317174107.py\u001b[0m in \u001b[0;36m<module>\u001b[1;34m\u001b[0m\n\u001b[0;32m      6\u001b[0m \u001b[1;33m\u001b[0m\u001b[0m\n\u001b[0;32m      7\u001b[0m \u001b[1;32mfor\u001b[0m \u001b[0mfile_name\u001b[0m \u001b[1;32min\u001b[0m \u001b[0mfile_names\u001b[0m\u001b[1;33m:\u001b[0m\u001b[1;33m\u001b[0m\u001b[1;33m\u001b[0m\u001b[0m\n\u001b[1;32m----> 8\u001b[1;33m     \u001b[0mcount_words\u001b[0m\u001b[1;33m(\u001b[0m\u001b[0mfile_name\u001b[0m\u001b[1;33m)\u001b[0m\u001b[1;33m\u001b[0m\u001b[1;33m\u001b[0m\u001b[0m\n\u001b[0m",
      "\u001b[1;31mTypeError\u001b[0m: count_words() takes 0 positional arguments but 1 was given"
     ]
    }
   ],
   "source": [
    "file_names = ['alice.txt', 'words.txt', 'names.txt']\n",
    "def count_words():\n",
    "    words = contents.split()\n",
    "    num_of_words = len(words)\n",
    "    print(f\"The {file_name} has {num_of_words} words\")\n",
    "    \n",
    "for file_name in file_names:\n",
    "    count_words(file_name)"
   ]
  },
  {
   "cell_type": "code",
   "execution_count": null,
   "id": "3a2d415d",
   "metadata": {},
   "outputs": [],
   "source": []
  }
 ],
 "metadata": {
  "kernelspec": {
   "display_name": "Python 3 (ipykernel)",
   "language": "python",
   "name": "python3"
  },
  "language_info": {
   "codemirror_mode": {
    "name": "ipython",
    "version": 3
   },
   "file_extension": ".py",
   "mimetype": "text/x-python",
   "name": "python",
   "nbconvert_exporter": "python",
   "pygments_lexer": "ipython3",
   "version": "3.9.13"
  }
 },
 "nbformat": 4,
 "nbformat_minor": 5
}
