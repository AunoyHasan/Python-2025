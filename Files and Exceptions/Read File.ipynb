{
 "cells": [
  {
   "cell_type": "markdown",
   "id": "8f7bbeed",
   "metadata": {},
   "source": [
    "## Reading an Entire File"
   ]
  },
  {
   "cell_type": "code",
   "execution_count": 12,
   "id": "1bf5b9bb",
   "metadata": {},
   "outputs": [
    {
     "name": "stdout",
     "output_type": "stream",
     "text": [
      "1 2 3 4 5 6 7 8 9 10\n",
      "\n",
      "11 22 33 44 55 66 77 88 99 \n",
      "\n",
      "3.1416\n",
      "\n",
      "7864\n",
      "\n",
      "My Name is Mahmudul Hasan Aunoy\n"
     ]
    }
   ],
   "source": [
    "with open('digits.txt') as file_object:\n",
    "    content += file_object.read()\n",
    "#content = ''\n",
    "print(content)"
   ]
  },
  {
   "cell_type": "code",
   "execution_count": 16,
   "id": "2172e12f",
   "metadata": {},
   "outputs": [
    {
     "name": "stdout",
     "output_type": "stream",
     "text": [
      "1 2 3 4 5 6 7 8 9 10\n",
      "\n",
      "\n",
      "\n",
      "11 22 33 44 55 66 77 88 99 \n",
      "\n",
      "\n",
      "\n",
      "3.1416\n",
      "\n",
      "\n",
      "\n",
      "7864\n",
      "\n",
      "\n",
      "\n",
      "My Name is Mahmudul Hasan Aunoy\n",
      "\n",
      "\n",
      "\n",
      "['1', 'Apple', '456', 'Teliscope']\n"
     ]
    }
   ],
   "source": [
    "file_name = 'digits.txt' \n",
    "contents = ''\n",
    "with open(file_name) as file_object:\n",
    "    contents = file_object.readlines()\n",
    "for content in contents:\n",
    "    print(content)"
   ]
  },
  {
   "cell_type": "markdown",
   "id": "c66a7e6a",
   "metadata": {},
   "source": [
    "## Writing to an empty file "
   ]
  },
  {
   "cell_type": "code",
   "execution_count": 18,
   "id": "b3967b88",
   "metadata": {},
   "outputs": [],
   "source": [
    "file_name = 'programming.txt'\n",
    "\n",
    "with open(file_name, 'w') as file_object:\n",
    "    file_object.write('I love programming')"
   ]
  },
  {
   "cell_type": "code",
   "execution_count": 19,
   "id": "0814f12f",
   "metadata": {},
   "outputs": [
    {
     "data": {
      "text/plain": [
       "\"\\nopening a file in write mode ('w') because if the \\nfile does exist, Python will erase the contents of the file before \\nreturning the file object\\n\""
      ]
     },
     "execution_count": 19,
     "metadata": {},
     "output_type": "execute_result"
    }
   ],
   "source": [
    "'''\n",
    "opening a file in write mode ('w') because if the \n",
    "file does exist, Python will erase the contents of the file before \n",
    "returning the file object\n",
    "'''"
   ]
  },
  {
   "cell_type": "markdown",
   "id": "03554bfa",
   "metadata": {},
   "source": [
    "### Writing multiple lines"
   ]
  },
  {
   "cell_type": "code",
   "execution_count": 21,
   "id": "b5a0be24",
   "metadata": {},
   "outputs": [],
   "source": [
    "file_name = 'programming.txt'\n",
    "\n",
    "with open(file_name, 'w') as file_object:\n",
    "    file_object.write('I love programming so')\n",
    "    file_object.write('\\nPython is my favourite programming language')"
   ]
  },
  {
   "cell_type": "code",
   "execution_count": 22,
   "id": "db81a76b",
   "metadata": {},
   "outputs": [],
   "source": [
    "'''\n",
    "If you want to add content to a file instead of writing over existing \n",
    "content, you can open the file in append mode. \n",
    "'''\n",
    "\n",
    "file_name = 'programming.txt'\n",
    "\n",
    "with open(file_name, 'a') as file_object:\n",
    "    file_object.write('I love programming so')\n",
    "    file_object.write('\\nPython is my favourite programming language\\n')\n",
    "    file_object.write('But, sometimes python programming language is boring')"
   ]
  },
  {
   "cell_type": "code",
   "execution_count": null,
   "id": "a0eaf745",
   "metadata": {},
   "outputs": [],
   "source": []
  }
 ],
 "metadata": {
  "kernelspec": {
   "display_name": "Python 3 (ipykernel)",
   "language": "python",
   "name": "python3"
  },
  "language_info": {
   "codemirror_mode": {
    "name": "ipython",
    "version": 3
   },
   "file_extension": ".py",
   "mimetype": "text/x-python",
   "name": "python",
   "nbconvert_exporter": "python",
   "pygments_lexer": "ipython3",
   "version": "3.9.13"
  }
 },
 "nbformat": 4,
 "nbformat_minor": 5
}
