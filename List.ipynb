{
 "cells": [
  {
   "cell_type": "code",
   "execution_count": 1,
   "id": "99c689d8",
   "metadata": {},
   "outputs": [
    {
     "data": {
      "text/plain": [
       "['Mango', 'Banana', 'Orange', 'Apple', 'Guava']"
      ]
     },
     "execution_count": 1,
     "metadata": {},
     "output_type": "execute_result"
    }
   ],
   "source": [
    "fruits = ['Mango', 'Banana', 'Orange', 'Apple', 'Guava']\n",
    "fruits"
   ]
  },
  {
   "cell_type": "code",
   "execution_count": 2,
   "id": "282b5b4a",
   "metadata": {},
   "outputs": [
    {
     "name": "stdout",
     "output_type": "stream",
     "text": [
      "['Mango', 'Banana', 'Orange', 'Apple', 'Guava']\n"
     ]
    }
   ],
   "source": [
    "print(fruits) "
   ]
  },
  {
   "cell_type": "code",
   "execution_count": 3,
   "id": "d459d908",
   "metadata": {},
   "outputs": [
    {
     "data": {
      "text/plain": [
       "'Orange'"
      ]
     },
     "execution_count": 3,
     "metadata": {},
     "output_type": "execute_result"
    }
   ],
   "source": [
    "fruits[2]  # Index Positions Start at 0, Not 1"
   ]
  },
  {
   "cell_type": "code",
   "execution_count": 4,
   "id": "ab1b7a43",
   "metadata": {},
   "outputs": [
    {
     "name": "stdout",
     "output_type": "stream",
     "text": [
      "Orange\n"
     ]
    }
   ],
   "source": [
    "print(fruits[2])"
   ]
  },
  {
   "cell_type": "code",
   "execution_count": 5,
   "id": "3eb8a722",
   "metadata": {},
   "outputs": [
    {
     "data": {
      "text/plain": [
       "'Guava'"
      ]
     },
     "execution_count": 5,
     "metadata": {},
     "output_type": "execute_result"
    }
   ],
   "source": [
    "fruits[-1]   # Print last element of the list"
   ]
  },
  {
   "cell_type": "code",
   "execution_count": 6,
   "id": "c4353477",
   "metadata": {},
   "outputs": [
    {
     "data": {
      "text/plain": [
       "['Mango', 'Banana', 'Watermelon', 'Apple', 'Guava']"
      ]
     },
     "execution_count": 6,
     "metadata": {},
     "output_type": "execute_result"
    }
   ],
   "source": [
    "# Modifying Elements in a List\n",
    "fruits[2] = 'Watermelon'\n",
    "fruits"
   ]
  },
  {
   "cell_type": "code",
   "execution_count": 7,
   "id": "2ab5d839",
   "metadata": {},
   "outputs": [
    {
     "data": {
      "text/plain": [
       "['Mango', 'Banana', 'Watermelon', 'Apple', 'Guava', 'Orange']"
      ]
     },
     "execution_count": 7,
     "metadata": {},
     "output_type": "execute_result"
    }
   ],
   "source": [
    "# Adding new element in the list\n",
    "fruits.append('Orange')\n",
    "fruits\n",
    "# if we use append(), then element will be inserted in the last"
   ]
  },
  {
   "cell_type": "code",
   "execution_count": 8,
   "id": "5e710c41",
   "metadata": {},
   "outputs": [
    {
     "data": {
      "text/plain": [
       "['Black berry', 'Mango', 'Banana', 'Watermelon', 'Apple', 'Guava', 'Orange']"
      ]
     },
     "execution_count": 8,
     "metadata": {},
     "output_type": "execute_result"
    }
   ],
   "source": [
    "# But if we want to add element in our favourite position\n",
    "fruits.insert(0, 'Black berry')\n",
    "fruits"
   ]
  },
  {
   "cell_type": "code",
   "execution_count": 9,
   "id": "c3391967",
   "metadata": {},
   "outputs": [],
   "source": [
    "# Removing item from the list\n",
    "del fruits[0]"
   ]
  },
  {
   "cell_type": "code",
   "execution_count": 10,
   "id": "2854beb2",
   "metadata": {},
   "outputs": [
    {
     "data": {
      "text/plain": [
       "['Mango', 'Banana', 'Watermelon', 'Apple', 'Guava', 'Orange']"
      ]
     },
     "execution_count": 10,
     "metadata": {},
     "output_type": "execute_result"
    }
   ],
   "source": [
    "fruits"
   ]
  },
  {
   "cell_type": "code",
   "execution_count": 11,
   "id": "e107dd04",
   "metadata": {},
   "outputs": [
    {
     "data": {
      "text/plain": [
       "['Mango', 'Banana', 'Watermelon', 'Apple', 'Guava']"
      ]
     },
     "execution_count": 11,
     "metadata": {},
     "output_type": "execute_result"
    }
   ],
   "source": [
    "# If we use pop(), then item will be deleted from the last\n",
    "fruits.pop()\n",
    "fruits"
   ]
  },
  {
   "cell_type": "code",
   "execution_count": 12,
   "id": "bde71f11",
   "metadata": {},
   "outputs": [
    {
     "data": {
      "text/plain": [
       "['Banana', 'Watermelon', 'Apple', 'Guava']"
      ]
     },
     "execution_count": 12,
     "metadata": {},
     "output_type": "execute_result"
    }
   ],
   "source": [
    "# if we want to remove any item using pop(), then we have to specify the index\n",
    "fruits.pop(0)\n",
    "fruits"
   ]
  },
  {
   "cell_type": "code",
   "execution_count": 13,
   "id": "e79054de",
   "metadata": {},
   "outputs": [
    {
     "data": {
      "text/plain": [
       "['Watermelon', 'Apple', 'Guava']"
      ]
     },
     "execution_count": 13,
     "metadata": {},
     "output_type": "execute_result"
    }
   ],
   "source": [
    "# Removing item by value\n",
    "fruits.remove('Banana')\n",
    "fruits"
   ]
  },
  {
   "cell_type": "code",
   "execution_count": 15,
   "id": "912034da",
   "metadata": {},
   "outputs": [
    {
     "data": {
      "text/plain": [
       "['Apple', 'Guava', 'Watermelon']"
      ]
     },
     "execution_count": 15,
     "metadata": {},
     "output_type": "execute_result"
    }
   ],
   "source": [
    "# We can sort a list using sort function\n",
    "fruits.sort()\n",
    "fruits"
   ]
  },
  {
   "cell_type": "code",
   "execution_count": 16,
   "id": "4b2257f3",
   "metadata": {},
   "outputs": [
    {
     "data": {
      "text/plain": [
       "['BMW', 'Audi', 'Toyoya', 'Marsedes', 'Tesla']"
      ]
     },
     "execution_count": 16,
     "metadata": {},
     "output_type": "execute_result"
    }
   ],
   "source": [
    "# Sorting a list permanantly using sort()\n",
    "cars = ['BMW', 'Audi', 'Toyoya','Marsedes', 'Tesla']\n",
    "cars"
   ]
  },
  {
   "cell_type": "code",
   "execution_count": 18,
   "id": "c4bf7362",
   "metadata": {},
   "outputs": [
    {
     "data": {
      "text/plain": [
       "['Toyoya', 'Tesla', 'Marsedes', 'BMW', 'Audi']"
      ]
     },
     "execution_count": 18,
     "metadata": {},
     "output_type": "execute_result"
    }
   ],
   "source": [
    "cars.sort(reverse = True)\n",
    "cars"
   ]
  },
  {
   "cell_type": "code",
   "execution_count": 20,
   "id": "9a5c328f",
   "metadata": {},
   "outputs": [
    {
     "data": {
      "text/plain": [
       "['Audi', 'BMW', 'Marsedes', 'Tesla', 'Toyoya']"
      ]
     },
     "execution_count": 20,
     "metadata": {},
     "output_type": "execute_result"
    }
   ],
   "source": [
    "# Sorting a list tempararyly with sorted()\n",
    "sorted(cars)"
   ]
  },
  {
   "cell_type": "code",
   "execution_count": 21,
   "id": "ea116832",
   "metadata": {},
   "outputs": [
    {
     "data": {
      "text/plain": [
       "['Toyoya', 'Tesla', 'Marsedes', 'BMW', 'Audi']"
      ]
     },
     "execution_count": 21,
     "metadata": {},
     "output_type": "execute_result"
    }
   ],
   "source": [
    "sorted(cars, reverse = True)"
   ]
  },
  {
   "cell_type": "code",
   "execution_count": 22,
   "id": "6a912b4c",
   "metadata": {},
   "outputs": [
    {
     "data": {
      "text/plain": [
       "['Toyoya', 'Tesla', 'Marsedes', 'BMW', 'Audi']"
      ]
     },
     "execution_count": 22,
     "metadata": {},
     "output_type": "execute_result"
    }
   ],
   "source": [
    "cars"
   ]
  },
  {
   "cell_type": "code",
   "execution_count": 23,
   "id": "a92cc81d",
   "metadata": {},
   "outputs": [
    {
     "data": {
      "text/plain": [
       "['Hunk', 'Pulser', 'Discovery', 'Honda', 'R15', 'Suzuki']"
      ]
     },
     "execution_count": 23,
     "metadata": {},
     "output_type": "execute_result"
    }
   ],
   "source": [
    "bike = ['Hunk', 'Pulser', 'Discovery', 'Honda', 'R15', 'Suzuki']\n",
    "bike"
   ]
  },
  {
   "cell_type": "code",
   "execution_count": 24,
   "id": "fb324120",
   "metadata": {},
   "outputs": [],
   "source": [
    "# Reverse woith reverse()\n",
    "bike.reverse()"
   ]
  },
  {
   "cell_type": "code",
   "execution_count": 25,
   "id": "9ed89cfb",
   "metadata": {},
   "outputs": [
    {
     "data": {
      "text/plain": [
       "['Suzuki', 'R15', 'Honda', 'Discovery', 'Pulser', 'Hunk']"
      ]
     },
     "execution_count": 25,
     "metadata": {},
     "output_type": "execute_result"
    }
   ],
   "source": [
    "bike"
   ]
  },
  {
   "cell_type": "code",
   "execution_count": 26,
   "id": "f3ded258",
   "metadata": {},
   "outputs": [
    {
     "data": {
      "text/plain": [
       "6"
      ]
     },
     "execution_count": 26,
     "metadata": {},
     "output_type": "execute_result"
    }
   ],
   "source": [
    "# Length of the list\n",
    "len(bike)"
   ]
  },
  {
   "cell_type": "code",
   "execution_count": 27,
   "id": "efbcf9c2",
   "metadata": {},
   "outputs": [
    {
     "name": "stdout",
     "output_type": "stream",
     "text": [
      "Suzuki\n",
      "R15\n",
      "Honda\n",
      "Discovery\n",
      "Pulser\n",
      "Hunk\n"
     ]
    }
   ],
   "source": [
    "# Looping through entire list\n",
    "for bk in bike:\n",
    "    print(bk)"
   ]
  },
  {
   "cell_type": "code",
   "execution_count": null,
   "id": "a899f66b",
   "metadata": {},
   "outputs": [],
   "source": []
  }
 ],
 "metadata": {
  "kernelspec": {
   "display_name": "Python 3 (ipykernel)",
   "language": "python",
   "name": "python3"
  },
  "language_info": {
   "codemirror_mode": {
    "name": "ipython",
    "version": 3
   },
   "file_extension": ".py",
   "mimetype": "text/x-python",
   "name": "python",
   "nbconvert_exporter": "python",
   "pygments_lexer": "ipython3",
   "version": "3.9.13"
  }
 },
 "nbformat": 4,
 "nbformat_minor": 5
}
