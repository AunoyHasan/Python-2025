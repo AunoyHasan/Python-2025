{
 "cells": [
  {
   "cell_type": "code",
   "execution_count": 4,
   "id": "ade8a7c1",
   "metadata": {},
   "outputs": [
    {
     "data": {
      "text/plain": [
       "'Toyota'"
      ]
     },
     "execution_count": 4,
     "metadata": {},
     "output_type": "execute_result"
    }
   ],
   "source": [
    "'''\n",
    "Touples are immutable, that means touples are not changebles\n",
    "'''\n",
    "\n",
    "cars = ('BMW', 'Toyota', 'Marcedes', 'Pazaro')\n",
    "cars[1]"
   ]
  },
  {
   "cell_type": "code",
   "execution_count": 3,
   "id": "1a48addd",
   "metadata": {},
   "outputs": [
    {
     "name": "stdout",
     "output_type": "stream",
     "text": [
      "Toyota\n"
     ]
    }
   ],
   "source": [
    "print(cars[1])"
   ]
  },
  {
   "cell_type": "code",
   "execution_count": 5,
   "id": "3746ea1f",
   "metadata": {},
   "outputs": [
    {
     "data": {
      "text/plain": [
       "('Toyota', 'Marcedes', 'Pazaro')"
      ]
     },
     "execution_count": 5,
     "metadata": {},
     "output_type": "execute_result"
    }
   ],
   "source": [
    "cars[1:]"
   ]
  },
  {
   "cell_type": "code",
   "execution_count": 6,
   "id": "47b161f3",
   "metadata": {},
   "outputs": [
    {
     "data": {
      "text/plain": [
       "('BMW', 'Toyota', 'Marcedes')"
      ]
     },
     "execution_count": 6,
     "metadata": {},
     "output_type": "execute_result"
    }
   ],
   "source": [
    "cars[:3]"
   ]
  },
  {
   "cell_type": "code",
   "execution_count": 7,
   "id": "1887f94b",
   "metadata": {},
   "outputs": [
    {
     "data": {
      "text/plain": [
       "'BMW'"
      ]
     },
     "execution_count": 7,
     "metadata": {},
     "output_type": "execute_result"
    }
   ],
   "source": [
    "cars[0]"
   ]
  },
  {
   "cell_type": "code",
   "execution_count": 8,
   "id": "c3cc774f",
   "metadata": {},
   "outputs": [
    {
     "data": {
      "text/plain": [
       "'Pazaro'"
      ]
     },
     "execution_count": 8,
     "metadata": {},
     "output_type": "execute_result"
    }
   ],
   "source": [
    "cars[-1]"
   ]
  },
  {
   "cell_type": "code",
   "execution_count": 9,
   "id": "675549e1",
   "metadata": {},
   "outputs": [
    {
     "name": "stdout",
     "output_type": "stream",
     "text": [
      "BMW\n",
      "Toyota\n",
      "Marcedes\n",
      "Pazaro\n"
     ]
    }
   ],
   "source": [
    "for car in cars:\n",
    "    print(car)"
   ]
  },
  {
   "cell_type": "code",
   "execution_count": null,
   "id": "d5fc67f2",
   "metadata": {},
   "outputs": [],
   "source": [
    "# Writing over a touple\n",
    "\n",
    "''''''"
   ]
  }
 ],
 "metadata": {
  "kernelspec": {
   "display_name": "Python 3 (ipykernel)",
   "language": "python",
   "name": "python3"
  },
  "language_info": {
   "codemirror_mode": {
    "name": "ipython",
    "version": 3
   },
   "file_extension": ".py",
   "mimetype": "text/x-python",
   "name": "python",
   "nbconvert_exporter": "python",
   "pygments_lexer": "ipython3",
   "version": "3.9.13"
  }
 },
 "nbformat": 4,
 "nbformat_minor": 5
}
