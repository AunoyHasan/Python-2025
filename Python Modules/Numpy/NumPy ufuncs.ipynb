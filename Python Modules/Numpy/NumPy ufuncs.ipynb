{
 "cells": [
  {
   "cell_type": "markdown",
   "id": "12b9897f",
   "metadata": {},
   "source": [
    "### Introduction"
   ]
  },
  {
   "cell_type": "code",
   "execution_count": 4,
   "id": "d962ae22",
   "metadata": {},
   "outputs": [
    {
     "name": "stdout",
     "output_type": "stream",
     "text": [
      "[5, 7, 9, 11]\n"
     ]
    }
   ],
   "source": [
    "# ufuncs stands for \"Universal Functions\" and they are NumPy functions that operate on the ndarray object.\n",
    "\n",
    "'''\n",
    "Why use ufuncs?\n",
    "ufuncs are used to implement vectorization in NumPy which is way faster than iterating over elements.\n",
    "\n",
    "They also provide broadcasting and additional methods like reduce, accumulate etc. that are very helpful for computation.\n",
    "\n",
    "ufuncs also take additional arguments, like:\n",
    "\n",
    "where boolean array or condition defining where the operations should take place.\n",
    "\n",
    "dtype defining the return type of elements.\n",
    "\n",
    "out output array where the return value should be copied.\n",
    "'''\n",
    "\n",
    "x = [1, 2, 3, 4]\n",
    "y = [4, 5, 6, 7]\n",
    "z = []\n",
    "\n",
    "for i, j in zip(x, y):\n",
    "    z.append(i + j)\n",
    "print(z)"
   ]
  },
  {
   "cell_type": "code",
   "execution_count": 6,
   "id": "53077f3b",
   "metadata": {},
   "outputs": [
    {
     "name": "stdout",
     "output_type": "stream",
     "text": [
      "[ 5  7  9 11]\n"
     ]
    }
   ],
   "source": [
    "import numpy as np\n",
    "x = [1, 2, 3, 4]\n",
    "y = [4, 5, 6, 7]\n",
    "z = np.add(x, y)\n",
    "\n",
    "print(z)"
   ]
  },
  {
   "cell_type": "markdown",
   "id": "7281ed94",
   "metadata": {},
   "source": [
    "### ufunc Create Function"
   ]
  },
  {
   "cell_type": "markdown",
   "id": "8ecc617b",
   "metadata": {},
   "source": [
    "'''\n",
    "The frompyfunc() method takes the following arguments:\n",
    "function - the name of the function.\n",
    "inputs - the number of input arguments (arrays).\n",
    "outputs - the number of output arrays.\n",
    "'''\n",
    "\n",
    "def my_add(x, y):\n",
    "    return x+y\n",
    "\n",
    "my_add = np.frompyfunc(my_add, 2, 1)\n",
    "print(my_add([1, 2, 3, 4], [5, 10, 15, 20]))"
   ]
  },
  {
   "cell_type": "code",
   "execution_count": 11,
   "id": "8ffd91d6",
   "metadata": {},
   "outputs": [
    {
     "name": "stdout",
     "output_type": "stream",
     "text": [
      "<class 'numpy.ufunc'>\n",
      "<class 'function'>\n"
     ]
    }
   ],
   "source": [
    "print(type(np.add))\n",
    "print(type(np.concatenate))"
   ]
  },
  {
   "cell_type": "markdown",
   "id": "a4b4ca1a",
   "metadata": {},
   "source": [
    "### Simple Arithmetic"
   ]
  },
  {
   "cell_type": "code",
   "execution_count": 15,
   "id": "d0d3274b",
   "metadata": {},
   "outputs": [
    {
     "name": "stdout",
     "output_type": "stream",
     "text": [
      "Addition  [30 32 34 36 38 40]\n",
      "Subtraction  [-10 -10 -10 -10 -10 -10]\n",
      "Multiplication  [200 231 264 299 336 375]\n",
      "Division  [0.5        0.52380952 0.54545455 0.56521739 0.58333333 0.6       ]\n",
      "Power  [ 1661992960   602408795           0  1487897765  1090519040 -1144744561]\n",
      "Mode  [10 11 12 13 14 15]\n",
      "Division-Mode  (array([0, 0, 0, 0, 0, 0], dtype=int32), array([10, 11, 12, 13, 14, 15], dtype=int32))\n",
      "Absolute  [1 2 1 2 3 4]\n"
     ]
    }
   ],
   "source": [
    "arr1 = np.array([10, 11, 12, 13, 14, 15])\n",
    "arr2 = np.array([20, 21, 22, 23, 24, 25])\n",
    "\n",
    "newarr_add = np.add(arr1, arr2)\n",
    "newarr_sub = np.subtract(arr1, arr2)\n",
    "newarr_mul = np.multiply(arr1, arr2)\n",
    "newarr_div = np.divide(arr1, arr2)\n",
    "newarr_pow = np.power(arr1, arr2)\n",
    "newarr_mod = np.mod(arr1, arr2)\n",
    "newarr_divM = np.divmod(arr1, arr2)\n",
    "\n",
    "arr = np.array([-1, -2, 1, 2, 3, -4])\n",
    "newarr_ab = np.absolute(arr)\n",
    "\n",
    "print(\"Addition \", newarr_add)\n",
    "print(\"Subtraction \", newarr_sub)\n",
    "print(\"Multiplication \", newarr_mul)\n",
    "print(\"Division \", newarr_div)\n",
    "print(\"Power \", newarr_pow)\n",
    "print(\"Mode \", newarr_mod)\n",
    "print(\"Division-Mode \", newarr_divM)\n",
    "print(\"Absolute \", newarr_ab)"
   ]
  },
  {
   "cell_type": "markdown",
   "id": "20d8a155",
   "metadata": {},
   "source": [
    "### Rounding Decimals"
   ]
  },
  {
   "cell_type": "code",
   "execution_count": 16,
   "id": "0ad6d05a",
   "metadata": {},
   "outputs": [
    {
     "name": "stdout",
     "output_type": "stream",
     "text": [
      "[-3.  3.]\n",
      "3.17\n",
      "[-4.  3.]\n",
      "[-3.  4.]\n"
     ]
    }
   ],
   "source": [
    "'''\n",
    "There are primarily five ways of rounding off decimals in NumPy:\n",
    "\n",
    "truncation\n",
    "fix\n",
    "rounding\n",
    "floor\n",
    "ceil\n",
    "'''\n",
    "\n",
    "arr = np.trunc([-3.1666, 3.6667])\n",
    "\n",
    "arr_round = np.around(3.1666, 2)\n",
    "arr_floor = np.floor([-3.1666, 3.6667])\n",
    "arr_ceil = np.ceil([-3.1666, 3.6667])\n",
    "\n",
    "print(arr)\n",
    "print(arr_round)\n",
    "print(arr_floor)\n",
    "print(arr_ceil)"
   ]
  },
  {
   "cell_type": "markdown",
   "id": "e3beda69",
   "metadata": {},
   "source": [
    "### Logs"
   ]
  },
  {
   "cell_type": "code",
   "execution_count": 17,
   "id": "8763dc52",
   "metadata": {},
   "outputs": [
    {
     "name": "stdout",
     "output_type": "stream",
     "text": [
      "[0.         1.         1.5849625  2.         2.32192809 2.5849625\n",
      " 2.80735492 3.         3.169925  ]\n",
      "[0.         0.30103    0.47712125 0.60205999 0.69897    0.77815125\n",
      " 0.84509804 0.90308999 0.95424251]\n"
     ]
    }
   ],
   "source": [
    "'''\n",
    "NumPy provides functions to perform log at the base 2, e and 10.\n",
    "\n",
    "We will also explore how we can take log for any base by creating a custom ufunc.\n",
    "\n",
    "All of the log functions will place -inf or inf in the elements if the log can not be computed.\n",
    "'''\n",
    "\n",
    "# Use the log2() function to perform log at the base 2.\n",
    "arr = np.arange(1, 10)\n",
    "print(np.log2(arr))\n",
    "print(np.log10(arr))"
   ]
  },
  {
   "cell_type": "code",
   "execution_count": null,
   "id": "7890b88a",
   "metadata": {},
   "outputs": [],
   "source": []
  }
 ],
 "metadata": {
  "kernelspec": {
   "display_name": "Python 3 (ipykernel)",
   "language": "python",
   "name": "python3"
  },
  "language_info": {
   "codemirror_mode": {
    "name": "ipython",
    "version": 3
   },
   "file_extension": ".py",
   "mimetype": "text/x-python",
   "name": "python",
   "nbconvert_exporter": "python",
   "pygments_lexer": "ipython3",
   "version": "3.9.13"
  }
 },
 "nbformat": 4,
 "nbformat_minor": 5
}
