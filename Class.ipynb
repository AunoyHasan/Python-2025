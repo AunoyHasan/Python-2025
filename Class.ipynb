{
 "cells": [
  {
   "cell_type": "markdown",
   "id": "ca58246f",
   "metadata": {},
   "source": [
    "## Creating a Class"
   ]
  },
  {
   "cell_type": "code",
   "execution_count": 16,
   "id": "6bca13ff",
   "metadata": {},
   "outputs": [
    {
     "name": "stdout",
     "output_type": "stream",
     "text": [
      "My dog's name is Jack\n",
      "Jack's age is 6\n",
      "\n",
      "\n",
      "He is 6 years old\n"
     ]
    }
   ],
   "source": [
    "class Dog:\n",
    "    def __init__(self, name, age):\n",
    "        self.name = name\n",
    "        self.age = age\n",
    "        \n",
    "    def class_age(self):\n",
    "        return self.age\n",
    "\n",
    "my_dog = Dog('Jack', 6)\n",
    "print(f\"My dog's name is {my_dog.name}\")\n",
    "print(f\"{my_dog.name}'s age is {my_dog.age}\")\n",
    "\n",
    "age = my_dog.class_age()\n",
    "print(f\"\\n\\nHe is {age} years old\")"
   ]
  },
  {
   "cell_type": "code",
   "execution_count": 17,
   "id": "986f75bf",
   "metadata": {},
   "outputs": [
    {
     "data": {
      "text/plain": [
       "'\\nThe self parameter is required in the method definition, and it must come \\nfirst before the other parameters. It must be included in the definition \\nbecause when Python calls this method later, the method call will \\nautomatically pass the self argument.\\n'"
      ]
     },
     "execution_count": 17,
     "metadata": {},
     "output_type": "execute_result"
    }
   ],
   "source": [
    "'''\n",
    "he __init__() method is a special method that Python runs \n",
    "automatically whenever we create a new instance based on a class. \n",
    "'''\n",
    "\n",
    "'''\n",
    "The self parameter is required in the method definition, and it must come \n",
    "first before the other parameters. It must be included in the definition \n",
    "because when Python calls this method later, the method call will \n",
    "automatically pass the self argument.\n",
    "'''\n"
   ]
  },
  {
   "cell_type": "code",
   "execution_count": null,
   "id": "b5736731",
   "metadata": {},
   "outputs": [],
   "source": []
  }
 ],
 "metadata": {
  "kernelspec": {
   "display_name": "Python 3 (ipykernel)",
   "language": "python",
   "name": "python3"
  },
  "language_info": {
   "codemirror_mode": {
    "name": "ipython",
    "version": 3
   },
   "file_extension": ".py",
   "mimetype": "text/x-python",
   "name": "python",
   "nbconvert_exporter": "python",
   "pygments_lexer": "ipython3",
   "version": "3.9.13"
  }
 },
 "nbformat": 4,
 "nbformat_minor": 5
}
