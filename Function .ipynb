{
 "cells": [
  {
   "cell_type": "code",
   "execution_count": 2,
   "id": "e05e3db0",
   "metadata": {},
   "outputs": [
    {
     "name": "stdout",
     "output_type": "stream",
     "text": [
      "Hello World!\n"
     ]
    }
   ],
   "source": [
    "def get_info():\n",
    "    print('Hello World!')\n",
    "\n",
    "get_info()"
   ]
  },
  {
   "cell_type": "markdown",
   "id": "8b6dbc34",
   "metadata": {},
   "source": [
    "## Passing Parameters (Positional Arguments)"
   ]
  },
  {
   "cell_type": "code",
   "execution_count": 3,
   "id": "87bb5095",
   "metadata": {},
   "outputs": [
    {
     "name": "stdout",
     "output_type": "stream",
     "text": [
      "Hello Aunoy\n"
     ]
    }
   ],
   "source": [
    "def get_name(user_name):\n",
    "    print(f\"Hello {user_name}\")\n",
    "get_name('Aunoy')"
   ]
  },
  {
   "cell_type": "code",
   "execution_count": 4,
   "id": "d4d512a2",
   "metadata": {},
   "outputs": [
    {
     "name": "stdout",
     "output_type": "stream",
     "text": [
      "I have a dog\n",
      "My dog's name is Marco\n"
     ]
    }
   ],
   "source": [
    "def describe_pet(pet_type, pet_name):\n",
    "    print(f\"I have a {pet_type}\")\n",
    "    print(f\"My {pet_type}'s name is {pet_name}\")\n",
    "describe_pet('dog', 'Marco')"
   ]
  },
  {
   "cell_type": "markdown",
   "id": "f331a166",
   "metadata": {},
   "source": [
    "## Passing Parameters (Keyword Arguments)"
   ]
  },
  {
   "cell_type": "code",
   "execution_count": 5,
   "id": "0d4f7e2c",
   "metadata": {},
   "outputs": [
    {
     "name": "stdout",
     "output_type": "stream",
     "text": [
      "I have a Cat\n",
      "My Cat's name is Simba\n"
     ]
    }
   ],
   "source": [
    "def describe_pet(pet_type, pet_name):\n",
    "    print(f\"I have a {pet_type}\")\n",
    "    print(f\"My {pet_type}'s name is {pet_name}\")\n",
    "describe_pet(pet_type = 'Cat', pet_name = 'Simba')"
   ]
  },
  {
   "cell_type": "markdown",
   "id": "fd67caba",
   "metadata": {},
   "source": [
    "## Default Values"
   ]
  },
  {
   "cell_type": "code",
   "execution_count": 9,
   "id": "9c4f256b",
   "metadata": {},
   "outputs": [
    {
     "name": "stdout",
     "output_type": "stream",
     "text": [
      "I have a Otter\n",
      "My Otter's name is Willie\n"
     ]
    }
   ],
   "source": [
    "def describe_pet(pet_name, pet_type = 'Otter'):\n",
    "    print(f\"I have a {pet_type}\")\n",
    "    print(f\"My {pet_type}'s name is {pet_name}\")\n",
    "describe_pet(pet_name = 'Willie')"
   ]
  },
  {
   "cell_type": "code",
   "execution_count": 10,
   "id": "2647a1e2",
   "metadata": {},
   "outputs": [
    {
     "ename": "SyntaxError",
     "evalue": "non-default argument follows default argument (3144859803.py, line 1)",
     "output_type": "error",
     "traceback": [
      "\u001b[1;36m  File \u001b[1;32m\"C:\\Users\\User\\AppData\\Local\\Temp\\ipykernel_17332\\3144859803.py\"\u001b[1;36m, line \u001b[1;32m1\u001b[0m\n\u001b[1;33m    def describe_pet(pet_type = 'Otter', pet_name):\u001b[0m\n\u001b[1;37m                                                 ^\u001b[0m\n\u001b[1;31mSyntaxError\u001b[0m\u001b[1;31m:\u001b[0m non-default argument follows default argument\n"
     ]
    }
   ],
   "source": [
    "def describe_pet(pet_type = 'Otter', pet_name):\n",
    "    print(f\"I have a {pet_type}\")\n",
    "    print(f\"My {pet_type}'s name is {pet_name}\")\n",
    "describe_pet(pet_name = 'Willie')"
   ]
  },
  {
   "cell_type": "markdown",
   "id": "ef7991a6",
   "metadata": {},
   "source": [
    "## Return Values"
   ]
  },
  {
   "cell_type": "code",
   "execution_count": 11,
   "id": "6b76fda4",
   "metadata": {},
   "outputs": [
    {
     "data": {
      "text/plain": [
       "'Hello World'"
      ]
     },
     "execution_count": 11,
     "metadata": {},
     "output_type": "execute_result"
    }
   ],
   "source": [
    "def get_info():\n",
    "    return \"Hello World\"\n",
    "get_info()"
   ]
  },
  {
   "cell_type": "code",
   "execution_count": 12,
   "id": "f1dcb498",
   "metadata": {},
   "outputs": [
    {
     "name": "stdout",
     "output_type": "stream",
     "text": [
      "Hello World\n"
     ]
    }
   ],
   "source": [
    "print(get_info())"
   ]
  },
  {
   "cell_type": "code",
   "execution_count": 13,
   "id": "bc68d704",
   "metadata": {},
   "outputs": [
    {
     "name": "stdout",
     "output_type": "stream",
     "text": [
      "Mahmudul Hasan\n"
     ]
    }
   ],
   "source": [
    "def get_formatted_name(first_name, last_name):\n",
    "    full_name = f\"{first_name} {last_name}\"\n",
    "    return full_name\n",
    "\n",
    "full_name = get_formatted_name('Mahmudul', 'Hasan')\n",
    "print(full_name)"
   ]
  },
  {
   "cell_type": "markdown",
   "id": "99e2c3bf",
   "metadata": {},
   "source": [
    "## Optional Arguments"
   ]
  },
  {
   "cell_type": "code",
   "execution_count": 14,
   "id": "5d6c1d86",
   "metadata": {},
   "outputs": [
    {
     "name": "stdout",
     "output_type": "stream",
     "text": [
      "Mahmudul Hasan\n",
      "Mahmudul Aunoy Hasan\n"
     ]
    }
   ],
   "source": [
    "def get_formatted_name(first_name, last_name, middle_name = ''):\n",
    "    if middle_name:\n",
    "        full_name = f\"{first_name} {middle_name} {last_name}\"\n",
    "    else:\n",
    "        full_name = f\"{first_name} {last_name}\"\n",
    "    return full_name\n",
    "\n",
    "full_name = get_formatted_name('Mahmudul', 'Hasan')\n",
    "print(full_name)\n",
    "\n",
    "full_name_middle = get_formatted_name('Mahmudul', 'Hasan', 'Aunoy') \n",
    "print(full_name_middle)"
   ]
  },
  {
   "cell_type": "markdown",
   "id": "8e66dc6e",
   "metadata": {},
   "source": [
    "## Returning a dictionary "
   ]
  },
  {
   "cell_type": "code",
   "execution_count": 15,
   "id": "78009790",
   "metadata": {},
   "outputs": [
    {
     "name": "stdout",
     "output_type": "stream",
     "text": [
      "{'First Name': 'Peter', 'Last Name': 'Parkar'}\n"
     ]
    }
   ],
   "source": [
    "def get_dictionary(first_name, last_name):\n",
    "    full_name = {'First Name': first_name, 'Last Name': last_name}\n",
    "    return full_name\n",
    "dictionary = get_dictionary('Peter', 'Parkar')\n",
    "print(dictionary)"
   ]
  },
  {
   "cell_type": "markdown",
   "id": "ab71c3bd",
   "metadata": {},
   "source": [
    "## Passing a list"
   ]
  },
  {
   "cell_type": "code",
   "execution_count": 20,
   "id": "2764f620",
   "metadata": {},
   "outputs": [
    {
     "name": "stdout",
     "output_type": "stream",
     "text": [
      "Hello Aunoy\n",
      "Hello Parkar\n",
      "Hello Serena\n"
     ]
    }
   ],
   "source": [
    "def get_names(names):\n",
    "    for name in names:\n",
    "        msg = f\"Hello {name}\"\n",
    "        print(msg)\n",
    "get_names(['Aunoy', 'Parkar', 'Serena'])"
   ]
  },
  {
   "cell_type": "code",
   "execution_count": 21,
   "id": "3483fae0",
   "metadata": {},
   "outputs": [
    {
     "name": "stdout",
     "output_type": "stream",
     "text": [
      "Hello Aunoy\n",
      "Hello Parkar\n",
      "Hello Serena\n"
     ]
    }
   ],
   "source": [
    "names = ['Aunoy', 'Parkar', 'Serena']\n",
    "get_names(names)"
   ]
  },
  {
   "cell_type": "code",
   "execution_count": null,
   "id": "5b7a5c9b",
   "metadata": {},
   "outputs": [],
   "source": []
  }
 ],
 "metadata": {
  "kernelspec": {
   "display_name": "Python 3 (ipykernel)",
   "language": "python",
   "name": "python3"
  },
  "language_info": {
   "codemirror_mode": {
    "name": "ipython",
    "version": 3
   },
   "file_extension": ".py",
   "mimetype": "text/x-python",
   "name": "python",
   "nbconvert_exporter": "python",
   "pygments_lexer": "ipython3",
   "version": "3.9.13"
  }
 },
 "nbformat": 4,
 "nbformat_minor": 5
}
