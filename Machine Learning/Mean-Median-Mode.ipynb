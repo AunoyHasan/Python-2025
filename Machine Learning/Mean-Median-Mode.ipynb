{
 "cells": [
  {
   "cell_type": "markdown",
   "id": "ec8cd9a2",
   "metadata": {},
   "source": [
    "### What is Machine Learning\n",
    "Machine Learning is making the computer learn from studying data and statistics.\n",
    "\n",
    "Machine Learning is a step into the direction of artificial intelligence (AI).\n",
    "\n",
    "Machine Learning is a program that analyses data and learns to predict the outcome."
   ]
  },
  {
   "cell_type": "markdown",
   "id": "7d27332a",
   "metadata": {},
   "source": [
    "### Data Types\n",
    "\n",
    "Data Types\n",
    "To analyze data, it is important to know what type of data we are dealing with.\n",
    "\n",
    "We can split the data types into three main categories:\n",
    "\n",
    "Numerical\n",
    "Categorical\n",
    "Ordinal\n",
    "Numerical data are numbers, and can be split into two numerical categories:\n",
    "\n",
    "Discrete Data\n",
    "- counted data that are limited to integers. Example: The number of cars passing by.\n",
    "Continuous Data\n",
    "- measured data that can be any number. Example: The price of an item, or the size of an item\n",
    "Categorical data are values that cannot be measured up against each other. Example: a color value, or any yes/no values.\n",
    "\n",
    "Ordinal data are like categorical data, but can be measured up against each other. Example: school grades where A is better than B and so on."
   ]
  },
  {
   "cell_type": "markdown",
   "id": "e1269ee0",
   "metadata": {},
   "source": [
    "### Mean, Median and Mode\\\n",
    "\n",
    "Mean - The average value\n",
    "Median - The mid point value\n",
    "Mode - The most common value"
   ]
  },
  {
   "cell_type": "code",
   "execution_count": 2,
   "id": "f029f736",
   "metadata": {},
   "outputs": [
    {
     "name": "stdout",
     "output_type": "stream",
     "text": [
      "Data set is:  [99, 86, 87, 88, 111, 86, 103, 87, 94, 78, 77, 85, 86]\n",
      "Mean is  89.76923076923077\n",
      "Median is  87.0\n"
     ]
    }
   ],
   "source": [
    "import numpy\n",
    "from scipy import stats\n",
    "\n",
    "speed = [99,86,87,88,111,86,103,87,94,78,77,85,86]\n",
    "\n",
    "mean = numpy.mean(speed)\n",
    "median = numpy.median(speed)\n",
    "#mode = stats.mode(speed)   # The SciPy module has a method for this\n",
    "\n",
    "print(\"Data set is: \", speed)\n",
    "print(\"Mean is \", mean)\n",
    "print(\"Median is \", median)\n",
    "#print(\"Mode is \", mode)"
   ]
  },
  {
   "cell_type": "code",
   "execution_count": null,
   "id": "feb43ff1",
   "metadata": {},
   "outputs": [],
   "source": []
  }
 ],
 "metadata": {
  "kernelspec": {
   "display_name": "Python 3 (ipykernel)",
   "language": "python",
   "name": "python3"
  },
  "language_info": {
   "codemirror_mode": {
    "name": "ipython",
    "version": 3
   },
   "file_extension": ".py",
   "mimetype": "text/x-python",
   "name": "python",
   "nbconvert_exporter": "python",
   "pygments_lexer": "ipython3",
   "version": "3.9.13"
  }
 },
 "nbformat": 4,
 "nbformat_minor": 5
}
