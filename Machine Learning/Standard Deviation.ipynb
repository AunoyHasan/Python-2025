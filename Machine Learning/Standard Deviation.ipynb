{
 "cells": [
  {
   "cell_type": "markdown",
   "id": "e80e1995",
   "metadata": {},
   "source": [
    "### Standard Deviation\n",
    "\n",
    "Standard deviation is a number that describes how spread out the values are.\n",
    "\n",
    "A low standard deviation means that most of the numbers are close to the mean (average) value.\n",
    "\n",
    "A high standard deviation means that the values are spread out over a wider range.\n",
    "\n",
    "speed = [86,87,88,86,87,85,86]\n",
    "\n",
    "The standard deviation is: 0.9\n",
    "\n",
    "Mean Value is: 86.4\n",
    "\n",
    "Meaning that most of the values are within the range of 0.9 from the mean value, which is 86.4.\n",
    "\n",
    "Let us do the same with a selection of numbers with a wider range:"
   ]
  },
  {
   "cell_type": "code",
   "execution_count": 1,
   "id": "f6495a85",
   "metadata": {},
   "outputs": [
    {
     "name": "stdout",
     "output_type": "stream",
     "text": [
      "Mean is:  86.42857142857143\n",
      "Standard Deviation is:  0.9035079029052513\n"
     ]
    }
   ],
   "source": [
    "import numpy\n",
    "\n",
    "speed = [86,87,88,86,87,85,86]\n",
    "\n",
    "mean = numpy.mean(speed)\n",
    "std = numpy.std(speed)\n",
    "\n",
    "print(\"Mean is: \", mean)\n",
    "print(\"Standard Deviation is: \", std)"
   ]
  },
  {
   "cell_type": "markdown",
   "id": "6661fb41",
   "metadata": {},
   "source": [
    "### Variance\n",
    "\n",
    "Variance is another number that indicates how spread out the values are.\n",
    "\n",
    "In fact, if you take the square root of the variance, you get the standard deviation!\n",
    "\n",
    "Or the other way around, if you multiply the standard deviation by itself, you get the variance!44\n",
    "\n",
    "speed = [32,111,138,28,59,77,97]\n",
    "\n",
    "1. Find the Mean\n",
    "mean = (32+111+138+28+59+77+97) / 7 = 77.4\n",
    "\n",
    "2. For each value: find the difference from the mean:\n",
    "32 - 77.4 = -45.4\n",
    "111 - 77.4 =  33.6\n",
    "138 - 77.4 =  60.6\n",
    "28 - 77.4 = -49.4\n",
    "59 - 77.4 = -18.4\n",
    "77 - 77.4 = - 0.4\n",
    "97 - 77.4 =  19.6\n",
    "\n",
    "3. For each difference: find the square value:\n",
    "\n",
    "(-45.4)2 = 2061.16\n",
    "(33.6)2 = 1128.96\n",
    "(60.6)2 = 3672.36\n",
    "(-49.4)2 = 2440.36\n",
    "(-18.4)2 =  338.56\n",
    "(- 0.4)2 =    0.16\n",
    "(19.6)2 =  384.16\n",
    " \n",
    "4. The variance is the average number of these squared differences:\n",
    "\n",
    "(2061.16+1128.96+3672.36+2440.36+338.56+0.16+384.16) / 7 = 1432.2"
   ]
  },
  {
   "cell_type": "code",
   "execution_count": 2,
   "id": "23ed6c3f",
   "metadata": {},
   "outputs": [
    {
     "name": "stdout",
     "output_type": "stream",
     "text": [
      "1432.2448979591834\n"
     ]
    }
   ],
   "source": [
    "speed = [32,111,138,28,59,77,97]\n",
    "\n",
    "x = numpy.var(speed)\n",
    "\n",
    "print(x)"
   ]
  },
  {
   "cell_type": "markdown",
   "id": "73113af6",
   "metadata": {},
   "source": [
    "### Standard Deviation\n",
    "As we have learned, the formula to find the standard deviation is the square root of the variance:"
   ]
  },
  {
   "cell_type": "code",
   "execution_count": 4,
   "id": "2781cdea",
   "metadata": {},
   "outputs": [
    {
     "name": "stdout",
     "output_type": "stream",
     "text": [
      "1432.2448979591834\n",
      "37.84501153334721\n",
      "37.84501153334721\n"
     ]
    }
   ],
   "source": [
    "import math\n",
    "speed = [32,111,138,28,59,77,97]\n",
    "\n",
    "variance = numpy.var(speed)\n",
    "std = numpy.std(speed)\n",
    "std2 = math.sqrt(variance)\n",
    "\n",
    "print(variance)\n",
    "print(std)\n",
    "print(std2)"
   ]
  },
  {
   "cell_type": "code",
   "execution_count": null,
   "id": "71ae4619",
   "metadata": {},
   "outputs": [],
   "source": []
  }
 ],
 "metadata": {
  "kernelspec": {
   "display_name": "Python 3 (ipykernel)",
   "language": "python",
   "name": "python3"
  },
  "language_info": {
   "codemirror_mode": {
    "name": "ipython",
    "version": 3
   },
   "file_extension": ".py",
   "mimetype": "text/x-python",
   "name": "python",
   "nbconvert_exporter": "python",
   "pygments_lexer": "ipython3",
   "version": "3.9.13"
  }
 },
 "nbformat": 4,
 "nbformat_minor": 5
}
