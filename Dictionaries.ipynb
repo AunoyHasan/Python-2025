{
 "cells": [
  {
   "cell_type": "code",
   "execution_count": 3,
   "id": "58fb80fd",
   "metadata": {},
   "outputs": [
    {
     "data": {
      "text/plain": [
       "{'name': 'Aunoy',\n",
       " 'age': 25,\n",
       " 'education': 'Bachelor in CSE',\n",
       " 'skin color': 'Brown'}"
      ]
     },
     "execution_count": 3,
     "metadata": {},
     "output_type": "execute_result"
    }
   ],
   "source": [
    "# A dictionary in Python is a collection of key-value pairs.\n",
    "\n",
    "my_profile = {'name': 'Aunoy',\n",
    "             'age': 25,\n",
    "             'education': 'Bachelor in CSE',\n",
    "             'skin color': 'Brown'}\n",
    "\n",
    "my_profile"
   ]
  },
  {
   "cell_type": "code",
   "execution_count": 4,
   "id": "e45d5ee6",
   "metadata": {},
   "outputs": [
    {
     "name": "stdout",
     "output_type": "stream",
     "text": [
      "{'name': 'Aunoy', 'age': 25, 'education': 'Bachelor in CSE', 'skin color': 'Brown'}\n"
     ]
    }
   ],
   "source": [
    "print(my_profile)"
   ]
  },
  {
   "cell_type": "code",
   "execution_count": 5,
   "id": "dd537820",
   "metadata": {},
   "outputs": [
    {
     "data": {
      "text/plain": [
       "{'name': 'Aunoy',\n",
       " 'age': 25,\n",
       " 'education': 'Bachelor in CSE',\n",
       " 'skin color': 'Brown'}"
      ]
     },
     "execution_count": 5,
     "metadata": {},
     "output_type": "execute_result"
    }
   ],
   "source": [
    "my_profile2 = {'name': 'Aunoy', 'age': 25, 'education': 'Bachelor in CSE','skin color': 'Brown'}\n",
    "my_profile2"
   ]
  },
  {
   "cell_type": "code",
   "execution_count": 6,
   "id": "76f93000",
   "metadata": {},
   "outputs": [
    {
     "data": {
      "text/plain": [
       "{'name': 'Aunoy', 'age': 25}"
      ]
     },
     "execution_count": 6,
     "metadata": {},
     "output_type": "execute_result"
    }
   ],
   "source": [
    "# Empty dictionay\n",
    "\n",
    "my_info = {}\n",
    "\n",
    "my_info['name'] = 'Aunoy'\n",
    "my_info['age'] = 25\n",
    "\n",
    "my_info"
   ]
  },
  {
   "cell_type": "code",
   "execution_count": 7,
   "id": "a9243553",
   "metadata": {},
   "outputs": [
    {
     "data": {
      "text/plain": [
       "{'name': 'Aunoy', 'age': 25, 'hair color': 'Black'}"
      ]
     },
     "execution_count": 7,
     "metadata": {},
     "output_type": "execute_result"
    }
   ],
   "source": [
    "# adding \n",
    "my_info ['hair color'] = 'Black'\n",
    "my_info"
   ]
  },
  {
   "cell_type": "code",
   "execution_count": 8,
   "id": "89422616",
   "metadata": {},
   "outputs": [
    {
     "data": {
      "text/plain": [
       "{'name': 'Aunoy', 'age': 26, 'hair color': 'Black'}"
      ]
     },
     "execution_count": 8,
     "metadata": {},
     "output_type": "execute_result"
    }
   ],
   "source": [
    "#modifying\n",
    "my_info['age'] = 26\n",
    "\n",
    "my_info"
   ]
  },
  {
   "cell_type": "code",
   "execution_count": 9,
   "id": "25fd6744",
   "metadata": {},
   "outputs": [],
   "source": [
    "#removing\n",
    "del my_info['hair color']"
   ]
  },
  {
   "cell_type": "code",
   "execution_count": 10,
   "id": "83ea8994",
   "metadata": {},
   "outputs": [
    {
     "data": {
      "text/plain": [
       "{'name': 'Aunoy', 'age': 26}"
      ]
     },
     "execution_count": 10,
     "metadata": {},
     "output_type": "execute_result"
    }
   ],
   "source": [
    "my_info"
   ]
  },
  {
   "cell_type": "code",
   "execution_count": 11,
   "id": "0f0614ff",
   "metadata": {},
   "outputs": [
    {
     "data": {
      "text/plain": [
       "{'Samir': 'C++', 'Abir': 'C', 'Aunoy': 'Python', 'Samanta': 'Java'}"
      ]
     },
     "execution_count": 11,
     "metadata": {},
     "output_type": "execute_result"
    }
   ],
   "source": [
    "# Get Vlaue using get()\n",
    "programming_lnaguage = {'Samir': 'C++', 'Abir': 'C', 'Aunoy': 'Python', 'Samanta': 'Java'}\n",
    "programming_lnaguage"
   ]
  },
  {
   "cell_type": "code",
   "execution_count": 13,
   "id": "d19e823e",
   "metadata": {},
   "outputs": [
    {
     "name": "stdout",
     "output_type": "stream",
     "text": [
      "No, Rahim is not defined\n"
     ]
    }
   ],
   "source": [
    "print_value = programming_lnaguage.get('Rahim', 'No, Rahim is not defined')\n",
    "print(print_value)"
   ]
  },
  {
   "cell_type": "code",
   "execution_count": 14,
   "id": "736db165",
   "metadata": {},
   "outputs": [
    {
     "name": "stdout",
     "output_type": "stream",
     "text": [
      "Samir's favourite programming language is C++\n",
      "Abir's favourite programming language is C\n",
      "Aunoy's favourite programming language is Python\n",
      "Samanta's favourite programming language is Java\n"
     ]
    }
   ],
   "source": [
    "for name, language in programming_lnaguage.items():\n",
    "    print(f\"{name}'s favourite programming language is {language}\")"
   ]
  },
  {
   "cell_type": "code",
   "execution_count": 15,
   "id": "8cb72b33",
   "metadata": {},
   "outputs": [
    {
     "name": "stdout",
     "output_type": "stream",
     "text": [
      "Samir\n",
      "Abir\n",
      "Aunoy\n",
      "Samanta\n"
     ]
    }
   ],
   "source": [
    "# only keys\n",
    "for name in programming_lnaguage.keys():\n",
    "    print(name.title())"
   ]
  },
  {
   "cell_type": "code",
   "execution_count": 17,
   "id": "34330159",
   "metadata": {},
   "outputs": [
    {
     "name": "stdout",
     "output_type": "stream",
     "text": [
      "C++\n",
      "C\n",
      "PYTHON\n",
      "JAVA\n"
     ]
    }
   ],
   "source": [
    "#values\n",
    "for language in programming_lnaguage.values():\n",
    "    print(language.upper())"
   ]
  },
  {
   "cell_type": "code",
   "execution_count": null,
   "id": "6e777671",
   "metadata": {},
   "outputs": [],
   "source": [
    "'''\n",
    "Looping Through All Values in a Dictionary\n",
    " • To see each language chosen without repetition, we can use a set.\n",
    " • A set is a collection in which each item must be unique\n",
    "'''\n",
    "\n",
    "for name in set()"
   ]
  }
 ],
 "metadata": {
  "kernelspec": {
   "display_name": "Python 3 (ipykernel)",
   "language": "python",
   "name": "python3"
  },
  "language_info": {
   "codemirror_mode": {
    "name": "ipython",
    "version": 3
   },
   "file_extension": ".py",
   "mimetype": "text/x-python",
   "name": "python",
   "nbconvert_exporter": "python",
   "pygments_lexer": "ipython3",
   "version": "3.9.13"
  }
 },
 "nbformat": 4,
 "nbformat_minor": 5
}
