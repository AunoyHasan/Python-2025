{
 "cells": [
  {
   "cell_type": "code",
   "execution_count": 2,
   "id": "1dd23d38",
   "metadata": {},
   "outputs": [
    {
     "data": {
      "text/plain": [
       "{'Arabic',\n",
       " 'Bengali',\n",
       " 'Chinese',\n",
       " 'English',\n",
       " 'French',\n",
       " 'Hibrew',\n",
       " 'Hindi',\n",
       " 'Spanish'}"
      ]
     },
     "execution_count": 2,
     "metadata": {},
     "output_type": "execute_result"
    }
   ],
   "source": [
    "languages = {'Bengali', 'English', 'Hindi', 'Chinese', 'French', 'Arabic', 'Hibrew', 'Spanish'}\n",
    "languages"
   ]
  },
  {
   "cell_type": "code",
   "execution_count": 3,
   "id": "feaa56d1",
   "metadata": {},
   "outputs": [
    {
     "name": "stdout",
     "output_type": "stream",
     "text": [
      "{'Bengali', 'Spanish', 'French', 'Hindi', 'Arabic', 'Hibrew', 'English', 'Chinese'}\n"
     ]
    }
   ],
   "source": [
    "print(languages)"
   ]
  },
  {
   "cell_type": "code",
   "execution_count": 4,
   "id": "bb18c32c",
   "metadata": {},
   "outputs": [
    {
     "name": "stdout",
     "output_type": "stream",
     "text": [
      "{'C', 'Java', 'Python', 'C++'}\n"
     ]
    }
   ],
   "source": [
    "programming_language = {'Python', 'C', 'Python', 'Java', 'Java', 'C++'}\n",
    "print(programming_language)"
   ]
  },
  {
   "cell_type": "code",
   "execution_count": 6,
   "id": "e18153b2",
   "metadata": {},
   "outputs": [
    {
     "data": {
      "text/plain": [
       "[{'name': 'Rahim', 'age': 25, 'color': 'Black'},\n",
       " {'name': 'Karim', 'age': 31, 'color': 'White'},\n",
       " {'name': 'Jabbar', 'age': 45, 'color': 'Brown'},\n",
       " {'name': 'Hannan', 'age': 67, 'color': 'Black'}]"
      ]
     },
     "execution_count": 6,
     "metadata": {},
     "output_type": "execute_result"
    }
   ],
   "source": [
    "# A list of dictionaries\n",
    "\n",
    "rahim_info = {'name': 'Rahim', 'age': 25, 'color': 'Black'}\n",
    "kahim_info = {'name': 'Karim', 'age': 31, 'color': 'White'}\n",
    "jabbar_info = {'name': 'Jabbar', 'age': 45, 'color': 'Brown'}\n",
    "hannan_info = {'name': 'Hannan', 'age': 67, 'color': 'Black'}\n",
    "\n",
    "all_info = [rahim_info, kahim_info, jabbar_info, hannan_info]\n",
    "all_info"
   ]
  },
  {
   "cell_type": "code",
   "execution_count": 7,
   "id": "a9d254dd",
   "metadata": {},
   "outputs": [
    {
     "name": "stdout",
     "output_type": "stream",
     "text": [
      "[{'name': 'Rahim', 'age': 25, 'color': 'Black'}, {'name': 'Karim', 'age': 31, 'color': 'White'}, {'name': 'Jabbar', 'age': 45, 'color': 'Brown'}, {'name': 'Hannan', 'age': 67, 'color': 'Black'}]\n"
     ]
    }
   ],
   "source": [
    "print(all_info)"
   ]
  },
  {
   "cell_type": "code",
   "execution_count": null,
   "id": "a5ad6ffe",
   "metadata": {},
   "outputs": [],
   "source": [
    "#list in a dictionary\n",
    "all_language = {\n",
    "    'Rahim': ['Python', 'C++', 'Java'],\n",
    "    'Kahim': ['C', 'C#'],\n",
    "    'Jabbar': ['R', 'Ruby'],\n",
    "    'Hannan': ['C++', 'Java']\n",
    "}\n",
    "\n",
    "\n",
    "all_language"
   ]
  }
 ],
 "metadata": {
  "kernelspec": {
   "display_name": "Python 3 (ipykernel)",
   "language": "python",
   "name": "python3"
  },
  "language_info": {
   "codemirror_mode": {
    "name": "ipython",
    "version": 3
   },
   "file_extension": ".py",
   "mimetype": "text/x-python",
   "name": "python",
   "nbconvert_exporter": "python",
   "pygments_lexer": "ipython3",
   "version": "3.9.13"
  }
 },
 "nbformat": 4,
 "nbformat_minor": 5
}
